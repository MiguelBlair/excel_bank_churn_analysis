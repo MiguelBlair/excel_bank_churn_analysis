{
 "cells": [
  {
   "cell_type": "markdown",
   "id": "8806f51f",
   "metadata": {
    "papermill": {
     "duration": 0.008751,
     "end_time": "2024-10-13T19:05:47.588948",
     "exception": false,
     "start_time": "2024-10-13T19:05:47.580197",
     "status": "completed"
    },
    "tags": []
   },
   "source": [
    "# Excel bank churn analysis"
   ]
  },
  {
   "cell_type": "markdown",
   "id": "befd12df",
   "metadata": {
    "papermill": {
     "duration": 0.008255,
     "end_time": "2024-10-13T19:05:47.604952",
     "exception": false,
     "start_time": "2024-10-13T19:05:47.596697",
     "status": "completed"
    },
    "tags": []
   },
   "source": [
    "![Bank Insights (Excel) Analysis](https://www.universalcreativesolutions.com/Blog%20Images/Reducing%20Customer%20Churn%20Rate.webp)"
   ]
  },
  {
   "cell_type": "markdown",
   "id": "4eb32032",
   "metadata": {
    "papermill": {
     "duration": 0.007493,
     "end_time": "2024-10-13T19:05:47.620138",
     "exception": false,
     "start_time": "2024-10-13T19:05:47.612645",
     "status": "completed"
    },
    "tags": []
   },
   "source": [
    "# 1. Data collection-\n",
    "\n",
    "In this project, I chose to focus on customer churn in banks, a dynamic and expanding sector. By examining customer demographics and purchasing behaviors, I aim to gain valuable insights into how different customer groups influence retention and profitability. This analysis is crucial for refining marketing strategies and enhancing customer engagement, making it particularly useful for banks looking to optimize their operations and reduce churn.\n",
    "\n",
    "The (CSV) dataset that I analysed in this project comes from [Radheshyam Kollipara](https://www.kaggle.com/datasets/radheshyamkollipara/bank-customer-churn). This project is focused on excel so firstly I loaded the CSV into excel to preview the data and find out what would be the ideal key insights to extract, and identify the necessary data cleaning steps to ensure effective insights extraction."
   ]
  },
  {
   "cell_type": "code",
   "execution_count": 4,
   "id": "d60fd0fb",
   "metadata": {
    "execution": {
     "iopub.execute_input": "2024-10-13T19:05:47.638428Z",
     "iopub.status.busy": "2024-10-13T19:05:47.638014Z",
     "iopub.status.idle": "2024-10-13T19:05:48.602905Z",
     "shell.execute_reply": "2024-10-13T19:05:48.601679Z"
    },
    "jupyter": {
     "source_hidden": true
    },
    "papermill": {
     "duration": 0.976589,
     "end_time": "2024-10-13T19:05:48.605295",
     "exception": false,
     "start_time": "2024-10-13T19:05:47.628706",
     "status": "completed"
    },
    "scrolled": true,
    "tags": []
   },
   "outputs": [
    {
     "data": {
      "text/html": [
       "<div>\n",
       "<style scoped>\n",
       "    .dataframe tbody tr th:only-of-type {\n",
       "        vertical-align: middle;\n",
       "    }\n",
       "\n",
       "    .dataframe tbody tr th {\n",
       "        vertical-align: top;\n",
       "    }\n",
       "\n",
       "    .dataframe thead th {\n",
       "        text-align: right;\n",
       "    }\n",
       "</style>\n",
       "<table border=\"1\" class=\"dataframe\">\n",
       "  <thead>\n",
       "    <tr style=\"text-align: right;\">\n",
       "      <th></th>\n",
       "      <th>RowNumber</th>\n",
       "      <th>CustomerId</th>\n",
       "      <th>Surname</th>\n",
       "      <th>CreditScore</th>\n",
       "      <th>Geography</th>\n",
       "      <th>Gender</th>\n",
       "      <th>Age</th>\n",
       "      <th>Tenure</th>\n",
       "      <th>Balance</th>\n",
       "      <th>NumOfProducts</th>\n",
       "      <th>HasCrCard</th>\n",
       "      <th>IsActiveMember</th>\n",
       "      <th>EstimatedSalary</th>\n",
       "      <th>Exited</th>\n",
       "      <th>Complain</th>\n",
       "      <th>Satisfaction Score</th>\n",
       "      <th>Card Type</th>\n",
       "      <th>Point Earned</th>\n",
       "    </tr>\n",
       "  </thead>\n",
       "  <tbody>\n",
       "    <tr>\n",
       "      <th>0</th>\n",
       "      <td>1</td>\n",
       "      <td>15634602</td>\n",
       "      <td>Hargrave</td>\n",
       "      <td>619</td>\n",
       "      <td>France</td>\n",
       "      <td>Female</td>\n",
       "      <td>42</td>\n",
       "      <td>2</td>\n",
       "      <td>0.00</td>\n",
       "      <td>1</td>\n",
       "      <td>1</td>\n",
       "      <td>1</td>\n",
       "      <td>101348.88</td>\n",
       "      <td>1</td>\n",
       "      <td>1</td>\n",
       "      <td>2</td>\n",
       "      <td>DIAMOND</td>\n",
       "      <td>464</td>\n",
       "    </tr>\n",
       "    <tr>\n",
       "      <th>1</th>\n",
       "      <td>2</td>\n",
       "      <td>15647311</td>\n",
       "      <td>Hill</td>\n",
       "      <td>608</td>\n",
       "      <td>Spain</td>\n",
       "      <td>Female</td>\n",
       "      <td>41</td>\n",
       "      <td>1</td>\n",
       "      <td>83807.86</td>\n",
       "      <td>1</td>\n",
       "      <td>0</td>\n",
       "      <td>1</td>\n",
       "      <td>112542.58</td>\n",
       "      <td>0</td>\n",
       "      <td>1</td>\n",
       "      <td>3</td>\n",
       "      <td>DIAMOND</td>\n",
       "      <td>456</td>\n",
       "    </tr>\n",
       "    <tr>\n",
       "      <th>2</th>\n",
       "      <td>3</td>\n",
       "      <td>15619304</td>\n",
       "      <td>Onio</td>\n",
       "      <td>502</td>\n",
       "      <td>France</td>\n",
       "      <td>Female</td>\n",
       "      <td>42</td>\n",
       "      <td>8</td>\n",
       "      <td>159660.80</td>\n",
       "      <td>3</td>\n",
       "      <td>1</td>\n",
       "      <td>0</td>\n",
       "      <td>113931.57</td>\n",
       "      <td>1</td>\n",
       "      <td>1</td>\n",
       "      <td>3</td>\n",
       "      <td>DIAMOND</td>\n",
       "      <td>377</td>\n",
       "    </tr>\n",
       "    <tr>\n",
       "      <th>3</th>\n",
       "      <td>4</td>\n",
       "      <td>15701354</td>\n",
       "      <td>Boni</td>\n",
       "      <td>699</td>\n",
       "      <td>France</td>\n",
       "      <td>Female</td>\n",
       "      <td>39</td>\n",
       "      <td>1</td>\n",
       "      <td>0.00</td>\n",
       "      <td>2</td>\n",
       "      <td>0</td>\n",
       "      <td>0</td>\n",
       "      <td>93826.63</td>\n",
       "      <td>0</td>\n",
       "      <td>0</td>\n",
       "      <td>5</td>\n",
       "      <td>GOLD</td>\n",
       "      <td>350</td>\n",
       "    </tr>\n",
       "    <tr>\n",
       "      <th>4</th>\n",
       "      <td>5</td>\n",
       "      <td>15737888</td>\n",
       "      <td>Mitchell</td>\n",
       "      <td>850</td>\n",
       "      <td>Spain</td>\n",
       "      <td>Female</td>\n",
       "      <td>43</td>\n",
       "      <td>2</td>\n",
       "      <td>125510.82</td>\n",
       "      <td>1</td>\n",
       "      <td>1</td>\n",
       "      <td>1</td>\n",
       "      <td>79084.10</td>\n",
       "      <td>0</td>\n",
       "      <td>0</td>\n",
       "      <td>5</td>\n",
       "      <td>GOLD</td>\n",
       "      <td>425</td>\n",
       "    </tr>\n",
       "    <tr>\n",
       "      <th>...</th>\n",
       "      <td>...</td>\n",
       "      <td>...</td>\n",
       "      <td>...</td>\n",
       "      <td>...</td>\n",
       "      <td>...</td>\n",
       "      <td>...</td>\n",
       "      <td>...</td>\n",
       "      <td>...</td>\n",
       "      <td>...</td>\n",
       "      <td>...</td>\n",
       "      <td>...</td>\n",
       "      <td>...</td>\n",
       "      <td>...</td>\n",
       "      <td>...</td>\n",
       "      <td>...</td>\n",
       "      <td>...</td>\n",
       "      <td>...</td>\n",
       "      <td>...</td>\n",
       "    </tr>\n",
       "    <tr>\n",
       "      <th>9995</th>\n",
       "      <td>9996</td>\n",
       "      <td>15606229</td>\n",
       "      <td>Obijiaku</td>\n",
       "      <td>771</td>\n",
       "      <td>France</td>\n",
       "      <td>Male</td>\n",
       "      <td>39</td>\n",
       "      <td>5</td>\n",
       "      <td>0.00</td>\n",
       "      <td>2</td>\n",
       "      <td>1</td>\n",
       "      <td>0</td>\n",
       "      <td>96270.64</td>\n",
       "      <td>0</td>\n",
       "      <td>0</td>\n",
       "      <td>1</td>\n",
       "      <td>DIAMOND</td>\n",
       "      <td>300</td>\n",
       "    </tr>\n",
       "    <tr>\n",
       "      <th>9996</th>\n",
       "      <td>9997</td>\n",
       "      <td>15569892</td>\n",
       "      <td>Johnstone</td>\n",
       "      <td>516</td>\n",
       "      <td>France</td>\n",
       "      <td>Male</td>\n",
       "      <td>35</td>\n",
       "      <td>10</td>\n",
       "      <td>57369.61</td>\n",
       "      <td>1</td>\n",
       "      <td>1</td>\n",
       "      <td>1</td>\n",
       "      <td>101699.77</td>\n",
       "      <td>0</td>\n",
       "      <td>0</td>\n",
       "      <td>5</td>\n",
       "      <td>PLATINUM</td>\n",
       "      <td>771</td>\n",
       "    </tr>\n",
       "    <tr>\n",
       "      <th>9997</th>\n",
       "      <td>9998</td>\n",
       "      <td>15584532</td>\n",
       "      <td>Liu</td>\n",
       "      <td>709</td>\n",
       "      <td>France</td>\n",
       "      <td>Female</td>\n",
       "      <td>36</td>\n",
       "      <td>7</td>\n",
       "      <td>0.00</td>\n",
       "      <td>1</td>\n",
       "      <td>0</td>\n",
       "      <td>1</td>\n",
       "      <td>42085.58</td>\n",
       "      <td>1</td>\n",
       "      <td>1</td>\n",
       "      <td>3</td>\n",
       "      <td>SILVER</td>\n",
       "      <td>564</td>\n",
       "    </tr>\n",
       "    <tr>\n",
       "      <th>9998</th>\n",
       "      <td>9999</td>\n",
       "      <td>15682355</td>\n",
       "      <td>Sabbatini</td>\n",
       "      <td>772</td>\n",
       "      <td>Germany</td>\n",
       "      <td>Male</td>\n",
       "      <td>42</td>\n",
       "      <td>3</td>\n",
       "      <td>75075.31</td>\n",
       "      <td>2</td>\n",
       "      <td>1</td>\n",
       "      <td>0</td>\n",
       "      <td>92888.52</td>\n",
       "      <td>1</td>\n",
       "      <td>1</td>\n",
       "      <td>2</td>\n",
       "      <td>GOLD</td>\n",
       "      <td>339</td>\n",
       "    </tr>\n",
       "    <tr>\n",
       "      <th>9999</th>\n",
       "      <td>10000</td>\n",
       "      <td>15628319</td>\n",
       "      <td>Walker</td>\n",
       "      <td>792</td>\n",
       "      <td>France</td>\n",
       "      <td>Female</td>\n",
       "      <td>28</td>\n",
       "      <td>4</td>\n",
       "      <td>130142.79</td>\n",
       "      <td>1</td>\n",
       "      <td>1</td>\n",
       "      <td>0</td>\n",
       "      <td>38190.78</td>\n",
       "      <td>0</td>\n",
       "      <td>0</td>\n",
       "      <td>3</td>\n",
       "      <td>DIAMOND</td>\n",
       "      <td>911</td>\n",
       "    </tr>\n",
       "  </tbody>\n",
       "</table>\n",
       "<p>10000 rows × 18 columns</p>\n",
       "</div>"
      ],
      "text/plain": [
       "      RowNumber  CustomerId    Surname  CreditScore Geography  Gender  Age  \\\n",
       "0             1    15634602   Hargrave          619    France  Female   42   \n",
       "1             2    15647311       Hill          608     Spain  Female   41   \n",
       "2             3    15619304       Onio          502    France  Female   42   \n",
       "3             4    15701354       Boni          699    France  Female   39   \n",
       "4             5    15737888   Mitchell          850     Spain  Female   43   \n",
       "...         ...         ...        ...          ...       ...     ...  ...   \n",
       "9995       9996    15606229   Obijiaku          771    France    Male   39   \n",
       "9996       9997    15569892  Johnstone          516    France    Male   35   \n",
       "9997       9998    15584532        Liu          709    France  Female   36   \n",
       "9998       9999    15682355  Sabbatini          772   Germany    Male   42   \n",
       "9999      10000    15628319     Walker          792    France  Female   28   \n",
       "\n",
       "      Tenure    Balance  NumOfProducts  HasCrCard  IsActiveMember  \\\n",
       "0          2       0.00              1          1               1   \n",
       "1          1   83807.86              1          0               1   \n",
       "2          8  159660.80              3          1               0   \n",
       "3          1       0.00              2          0               0   \n",
       "4          2  125510.82              1          1               1   \n",
       "...      ...        ...            ...        ...             ...   \n",
       "9995       5       0.00              2          1               0   \n",
       "9996      10   57369.61              1          1               1   \n",
       "9997       7       0.00              1          0               1   \n",
       "9998       3   75075.31              2          1               0   \n",
       "9999       4  130142.79              1          1               0   \n",
       "\n",
       "      EstimatedSalary  Exited  Complain  Satisfaction Score Card Type  \\\n",
       "0           101348.88       1         1                   2   DIAMOND   \n",
       "1           112542.58       0         1                   3   DIAMOND   \n",
       "2           113931.57       1         1                   3   DIAMOND   \n",
       "3            93826.63       0         0                   5      GOLD   \n",
       "4            79084.10       0         0                   5      GOLD   \n",
       "...               ...     ...       ...                 ...       ...   \n",
       "9995         96270.64       0         0                   1   DIAMOND   \n",
       "9996        101699.77       0         0                   5  PLATINUM   \n",
       "9997         42085.58       1         1                   3    SILVER   \n",
       "9998         92888.52       1         1                   2      GOLD   \n",
       "9999         38190.78       0         0                   3   DIAMOND   \n",
       "\n",
       "      Point Earned  \n",
       "0              464  \n",
       "1              456  \n",
       "2              377  \n",
       "3              350  \n",
       "4              425  \n",
       "...            ...  \n",
       "9995           300  \n",
       "9996           771  \n",
       "9997           564  \n",
       "9998           339  \n",
       "9999           911  \n",
       "\n",
       "[10000 rows x 18 columns]"
      ]
     },
     "execution_count": 4,
     "metadata": {},
     "output_type": "execute_result"
    }
   ],
   "source": [
    "# Imports pandas\n",
    "import pandas as pd\n",
    "\n",
    "df = pd.read_csv ('Assets/raw_bank_data.csv')\n",
    "\n",
    "df"
   ]
  },
  {
   "cell_type": "markdown",
   "id": "a21864fb",
   "metadata": {
    "papermill": {
     "duration": 0.00918,
     "end_time": "2024-10-13T19:05:48.623943",
     "exception": false,
     "start_time": "2024-10-13T19:05:48.614763",
     "status": "completed"
    },
    "tags": []
   },
   "source": [
    "How I would check the number of columns in excel is to select a row number and view the count below"
   ]
  },
  {
   "cell_type": "markdown",
   "id": "62b1f14b",
   "metadata": {},
   "source": [
    "![img](Images/column_count.png)"
   ]
  },
  {
   "cell_type": "markdown",
   "id": "a9c5a20e",
   "metadata": {
    "papermill": {
     "duration": 0.012704,
     "end_time": "2024-10-13T19:05:48.701162",
     "exception": false,
     "start_time": "2024-10-13T19:05:48.688458",
     "status": "completed"
    },
    "tags": []
   },
   "source": [
    "For the rows, I would select a column letter"
   ]
  },
  {
   "cell_type": "markdown",
   "id": "ea2e0bce",
   "metadata": {},
   "source": [
    "![img](Images/row_count.png)"
   ]
  },
  {
   "cell_type": "markdown",
   "id": "52bd98f1",
   "metadata": {
    "papermill": {
     "duration": 0.018767,
     "end_time": "2024-10-13T19:05:48.798744",
     "exception": false,
     "start_time": "2024-10-13T19:05:48.779977",
     "status": "completed"
    },
    "tags": []
   },
   "source": [
    ">What this preview tells us about this data frame-\n",
    "\n",
    "1. There are 10, 000 rows and 18 columns.\n",
    "\n",
    "2. The columns in the datasets are: RowNumber, CustomerId, Surname, CreditScore, Geography, Gender, Age, Tenure, Balance, NumOfProducts, HasCrCard, IsActiveMember, EstimatedSalary, Exited, Complain, Satisfaction Score, Card Type, Point Earned"
   ]
  },
  {
   "cell_type": "markdown",
   "id": "3021ee93",
   "metadata": {
    "papermill": {
     "duration": 0.017775,
     "end_time": "2024-10-13T19:05:48.835238",
     "exception": false,
     "start_time": "2024-10-13T19:05:48.817463",
     "status": "completed"
    },
    "tags": []
   },
   "source": [
    "# 2. Defining the problems/ goals-\n",
    "\n",
    "  Looking at this data (primarily the columns), the ideal key insights to extract would be-\n",
    "\n",
    "1. **What is the distribution of credit scores across different regions (Geography)?**  \n",
    "   Calculate the average credit score for each region to identify regional trends.\n",
    "\n",
    "2. **How do age and tenure impact the number of products customers use?**  \n",
    "   Analyze the average number of products based on age and tenure to identify usage patterns.\n",
    "\n",
    "3. **Is there a correlation between customer balance and factors like credit score, geography, or tenure?**  \n",
    "   Examine correlations between customer balance and credit score, geography, or tenure to detect trends.\n",
    "\n",
    "4. **What are the key differences between male and female customers in terms of credit score, balance, and product usage?**  \n",
    "   Compare average credit scores, balances, and product usage between genders to identify significant differences."
   ]
  },
  {
   "cell_type": "markdown",
   "id": "fd2fe4e0",
   "metadata": {
    "papermill": {
     "duration": 0.018053,
     "end_time": "2024-10-13T19:05:48.871572",
     "exception": false,
     "start_time": "2024-10-13T19:05:48.853519",
     "status": "completed"
    },
    "tags": []
   },
   "source": [
    "# 3. Data cleaning-\n",
    "\n",
    "This data is fairly clean, it just needs better formatting, and a \"staging\" copy of the original sheet for data integrity and to prevent data loss. So without wasting any time at all, I went straight through this data analysis process."
   ]
  },
  {
   "cell_type": "markdown",
   "id": "59d4c588",
   "metadata": {
    "papermill": {
     "duration": 0.017854,
     "end_time": "2024-10-13T19:05:48.907660",
     "exception": false,
     "start_time": "2024-10-13T19:05:48.889806",
     "status": "completed"
    },
    "tags": []
   },
   "source": [
    "Firstly, I created a duplicate of the original table to work on only the columns i need, which is displayed below"
   ]
  },
  {
   "cell_type": "markdown",
   "id": "f852e1b7",
   "metadata": {},
   "source": [
    "![img](Images/staging_copy.png)"
   ]
  },
  {
   "cell_type": "markdown",
   "id": "7cb8a616",
   "metadata": {
    "papermill": {
     "duration": 0.022757,
     "end_time": "2024-10-13T19:05:49.019437",
     "exception": false,
     "start_time": "2024-10-13T19:05:48.996680",
     "status": "completed"
    },
    "tags": []
   },
   "source": [
    ">Duplicates-\n",
    "\n",
    "To remove duplicates I used ctrl+A to select the whole table then went to the data tab in the above ribbon, selected data tools, and finally remove duplicates and ok.\n",
    "\n",
    "Which there were no duplicate values found"
   ]
  },
  {
   "cell_type": "markdown",
   "id": "e10df631",
   "metadata": {},
   "source": [
    "![img](Images/dup.png)"
   ]
  },
  {
   "cell_type": "markdown",
   "id": "43c2a234",
   "metadata": {
    "papermill": {
     "duration": 0.028016,
     "end_time": "2024-10-13T19:05:49.155777",
     "exception": false,
     "start_time": "2024-10-13T19:05:49.127761",
     "status": "completed"
    },
    "tags": []
   },
   "source": [
    ">Null values-\n",
    "\n",
    "With the entire sheet selected still, I went to the insert tab and selected table so I can filter the columns by \"blank\" cells.\n",
    "\n",
    "Which none were found."
   ]
  },
  {
   "cell_type": "markdown",
   "id": "9d96fae6",
   "metadata": {},
   "source": [
    "![img](Images/null.png)"
   ]
  },
  {
   "cell_type": "markdown",
   "id": "8f7399d3",
   "metadata": {
    "papermill": {
     "duration": 0.033115,
     "end_time": "2024-10-13T19:05:49.309240",
     "exception": false,
     "start_time": "2024-10-13T19:05:49.276125",
     "status": "completed"
    },
    "tags": []
   },
   "source": [
    ">The data is now clean\n",
    "\n",
    "I checked for duplicate entries, checked for null values, and filtered out only the relevant columns into a copy table, Now I started extracting insights and visualize them."
   ]
  },
  {
   "cell_type": "markdown",
   "id": "009f4e28",
   "metadata": {
    "papermill": {
     "duration": 0.032618,
     "end_time": "2024-10-13T19:05:49.374249",
     "exception": false,
     "start_time": "2024-10-13T19:05:49.341631",
     "status": "completed"
    },
    "tags": []
   },
   "source": [
    "# 4. Data analysis\n",
    "\n",
    "# First question-\n",
    "\n",
    "1. **What is the distribution of credit scores across different regions (Geography)?**  \n",
    "   Calculate the average credit score for each region to identify regional trends.\n",
    "   \n",
    "For all my insigths below, I utilized pivot tables under the insert tab, and visualized them with a bar chart.\n",
    "\n",
    "This result pivot table is-"
   ]
  },
  {
   "cell_type": "markdown",
   "id": "affd0574",
   "metadata": {},
   "source": [
    "![img](Images/q1.png)"
   ]
  },
  {
   "cell_type": "markdown",
   "id": "1e7870d2",
   "metadata": {
    "papermill": {
     "duration": 0.035436,
     "end_time": "2024-10-13T19:05:49.535490",
     "exception": false,
     "start_time": "2024-10-13T19:05:49.500054",
     "status": "completed"
    },
    "tags": []
   },
   "source": [
    "### Conclusion\n",
    "\n",
    "From the pivot table, we can observe that the average credit scores across the three regions—France, Spain, and Germany—are fairly similar, with Germany having the highest average at **651.45**, followed closely by Spain at **651.33**, and France at **649.67**. Although the differences in credit scores are small, Germany and Spain show slightly higher creditworthiness compared to France. This insight can be useful for tailoring financial services or marketing strategies based on regional credit score trends."
   ]
  },
  {
   "cell_type": "markdown",
   "id": "4dcf1836",
   "metadata": {
    "papermill": {
     "duration": 0.034911,
     "end_time": "2024-10-13T19:05:49.607538",
     "exception": false,
     "start_time": "2024-10-13T19:05:49.572627",
     "status": "completed"
    },
    "tags": []
   },
   "source": [
    "# Second question-\n",
    "\n",
    "2. **How do age and tenure impact the number of products customers use?**  \n",
    "   Analyze the average number of products based on age and tenure to identify usage patterns.\n",
    "   \n",
    "To make the pivot table more readable, with IF functions I added new columns, Age range, and ,tenure range"
   ]
  },
  {
   "cell_type": "markdown",
   "id": "b93ba135",
   "metadata": {},
   "source": [
    "![img](Images/age_range.png)"
   ]
  },
  {
   "cell_type": "markdown",
   "id": "4184d96f",
   "metadata": {},
   "source": [
    "![img](Images/tenure_range.png)"
   ]
  },
  {
   "cell_type": "markdown",
   "id": "e6f3a2d1",
   "metadata": {
    "papermill": {
     "duration": 0.045457,
     "end_time": "2024-10-13T19:05:49.931276",
     "exception": false,
     "start_time": "2024-10-13T19:05:49.885819",
     "status": "completed"
    },
    "tags": []
   },
   "source": [
    "And then the analysis done below"
   ]
  },
  {
   "cell_type": "markdown",
   "id": "b1108432",
   "metadata": {},
   "source": [
    "![img](Images/q2.png)"
   ]
  },
  {
   "cell_type": "markdown",
   "id": "ee57dadf",
   "metadata": {
    "papermill": {
     "duration": 0.04862,
     "end_time": "2024-10-13T19:05:50.149932",
     "exception": false,
     "start_time": "2024-10-13T19:05:50.101312",
     "status": "completed"
    },
    "tags": []
   },
   "source": [
    "### Conclusion-\n",
    "\n",
    "The analysis of average product usage reveals interesting patterns based on customer age and tenure. Across all age ranges, the average number of products used is relatively consistent, with younger age groups (20-29) showing slightly higher usage (approximately **1.56 products**) compared to older age groups (50-59) which have lower usage (approximately **1.48 products**). \n",
    "\n",
    "In terms of tenure, customers with **1-2 years** of tenure have the highest average product usage across all age ranges, while those with **less than 1 year** of tenure exhibit the lowest usage (approximately **1.44 products** overall). \n",
    "\n",
    "Overall, while age appears to have a minimal impact on the average number of products used, tenure seems to play a more significant role, with longer tenure associated with increased product usage. These insights can help tailor marketing strategies to enhance customer engagement, particularly for newer customers."
   ]
  },
  {
   "cell_type": "markdown",
   "id": "3ef33625",
   "metadata": {
    "papermill": {
     "duration": 0.04819,
     "end_time": "2024-10-13T19:05:50.246721",
     "exception": false,
     "start_time": "2024-10-13T19:05:50.198531",
     "status": "completed"
    },
    "tags": []
   },
   "source": [
    "# Third question\n",
    "\n",
    "3. **Is there a correlation between customer balance and factors like credit score, geography, or tenure?**  \n",
    "   Examine correlations between customer balance and credit score, geography, or tenure to detect trends."
   ]
  },
  {
   "cell_type": "markdown",
   "id": "7619095f",
   "metadata": {
    "papermill": {
     "duration": 0.049064,
     "end_time": "2024-10-13T19:05:50.344459",
     "exception": false,
     "start_time": "2024-10-13T19:05:50.295395",
     "status": "completed"
    },
    "tags": []
   },
   "source": [
    "Average credit score by tenure and geography:"
   ]
  },
  {
   "cell_type": "markdown",
   "id": "0d926a2b",
   "metadata": {},
   "source": [
    "![img](Images/q3_1st.png)"
   ]
  },
  {
   "cell_type": "markdown",
   "id": "68fcff12",
   "metadata": {
    "papermill": {
     "duration": 0.055787,
     "end_time": "2024-10-13T19:05:50.582790",
     "exception": false,
     "start_time": "2024-10-13T19:05:50.527003",
     "status": "completed"
    },
    "tags": []
   },
   "source": [
    "Average balance by tenure and geography:"
   ]
  },
  {
   "cell_type": "markdown",
   "id": "850c506d",
   "metadata": {},
   "source": [
    "![img](Images/q3_2nd.png)"
   ]
  },
  {
   "cell_type": "markdown",
   "id": "6abc1d65",
   "metadata": {
    "papermill": {
     "duration": 0.056908,
     "end_time": "2024-10-13T19:05:50.834625",
     "exception": false,
     "start_time": "2024-10-13T19:05:50.777717",
     "status": "completed"
    },
    "tags": []
   },
   "source": [
    "**Conclusion**:\n",
    "\n",
    "The analysis of credit scores and balances across different geographies and tenure ranges reveals some interesting insights. Overall, the average credit score is highest in Germany (**651.45**), followed closely by Spain (**651.33**) and France (**649.67**). Notably, customers with a tenure of **1-2 years** generally have the highest average credit scores, indicating that newer customers tend to have stronger creditworthiness.\n",
    "\n",
    "When examining average balances, Germany also stands out with the highest figures across all tenure ranges, particularly for customers with **1-2 years** of tenure, averaging **119,095.92**. In contrast, Spain exhibits lower average balances, particularly among customers with **3-4 years** of tenure, averaging **59,710.61**.\n",
    "\n",
    "The overall trend suggests that longer tenure correlates with higher balances and stable credit scores, especially in Germany. This indicates that customers tend to build stronger financial profiles over time, reinforcing the importance of customer retention strategies for enhancing overall financial health. Understanding these dynamics can assist financial institutions in tailoring their offerings to meet the needs of different customer segments effectively."
   ]
  },
  {
   "cell_type": "markdown",
   "id": "aa8c0523",
   "metadata": {
    "papermill": {
     "duration": 0.055978,
     "end_time": "2024-10-13T19:05:50.947322",
     "exception": false,
     "start_time": "2024-10-13T19:05:50.891344",
     "status": "completed"
    },
    "tags": []
   },
   "source": [
    "# Fourth question-\n",
    "\n",
    "4. **What are the key differences between male and female customers in terms of credit score, balance, and product usage?**  \n",
    "   With a pivot table, I compared average credit scores, balances, and product usage between genders to identify significant differences."
   ]
  },
  {
   "cell_type": "markdown",
   "id": "b2b97285",
   "metadata": {},
   "source": [
    "![img](Images/q4.png)"
   ]
  },
  {
   "cell_type": "markdown",
   "id": "954b764c",
   "metadata": {
    "papermill": {
     "duration": 0.059502,
     "end_time": "2024-10-13T19:05:51.212457",
     "exception": false,
     "start_time": "2024-10-13T19:05:51.152955",
     "status": "completed"
    },
    "tags": []
   },
   "source": [
    "### Conclusion:\n",
    "\n",
    "The analysis shows that female customers have a slightly higher average balance (**₹75,659.37**) compared to male customers (**₹77,173.97**). In terms of credit score, females have a marginally higher average score (**650.83**) compared to males (**650.28**). Additionally, females use more products on average (**1.54 products**) than males (**1.52 products**). These findings suggest that while the differences between genders are subtle, female customers may have slightly higher financial engagement, potentially indicating more involvement in the bank’s offerings. This insight can be valuable for developing gender-specific marketing strategies and service enhancements."
   ]
  },
  {
   "cell_type": "markdown",
   "id": "9999fb16",
   "metadata": {
    "papermill": {
     "duration": 0.059211,
     "end_time": "2024-10-13T19:05:51.330788",
     "exception": false,
     "start_time": "2024-10-13T19:05:51.271577",
     "status": "completed"
    },
    "tags": []
   },
   "source": [
    "# Summary:\n",
    "\n",
    "This project examines customer data to identify key trends in credit scores, product usage, customer balances, and demographic factors such as gender and geography. The analysis provides valuable insights for optimizing marketing strategies and customer engagement efforts.\n",
    "\n",
    "1. **Credit Score Distribution by Geography**  \n",
    "   The average credit scores across France, Spain, and Germany are similar, with Germany showing the highest average at **651.45**, followed by Spain (**651.33**) and France (**649.67**). Though differences are small, this insight can be leveraged to tailor region-specific financial services, especially in regions with higher creditworthiness.\n",
    "\n",
    "2. **Impact of Age and Tenure on Product Usage**  \n",
    "   Customers with **1-2 years** of tenure consistently have higher product usage across all age groups, with younger customers (20-29) using slightly more products (**1.56 products**) than older customers (50-59). Tenure has a more pronounced effect on product usage, with shorter-tenured customers using fewer products. This suggests that banks could focus on engaging new customers to increase product adoption early in their relationship.\n",
    "\n",
    "3. **Correlation Between Balance and Factors like Credit Score, Geography, and Tenure**  \n",
    "   Longer tenure is associated with higher balances, particularly in Germany, where customers with **1-2 years** of tenure hold the highest average balance (**₹119,095.92**). The correlation between geography and balance suggests that German customers are likely to hold more wealth over time. Understanding these patterns helps financial institutions focus retention strategies on high-value customers.\n",
    "\n",
    "4. **Key Differences Between Male and Female Customers**  \n",
    "   Female customers have a slightly higher average balance (**₹75,659.37**) compared to male customers (**₹77,173.97**). Females also have a slightly higher average credit score (**650.83**) and product usage (**1.54 products**) than males. These differences, though subtle, suggest that female customers may be more engaged with banking products, presenting opportunities for gender-targeted marketing campaigns.  \n",
    "\n",
    "These findings highlight the importance of customer demographics, tenure, and geography in shaping customer behaviors and provide actionable insights for improving customer segmentation, engagement, and profitability in the banking sector."
   ]
  },
  {
   "cell_type": "markdown",
   "id": "aa37d0df",
   "metadata": {
    "papermill": {
     "duration": 0.058757,
     "end_time": "2024-10-13T19:05:51.448767",
     "exception": false,
     "start_time": "2024-10-13T19:05:51.390010",
     "status": "completed"
    },
    "tags": []
   },
   "source": [
    "# Thank you for your time\n",
    "\n",
    "If you have any suggestions to what I should add or edit to this project feel free to comment on it, I will accredit any suggestions if so desired.  Any input is appreciated."
   ]
  }
 ],
 "metadata": {
  "kaggle": {
   "accelerator": "none",
   "dataSources": [
    {
     "datasetId": 5767938,
     "sourceId": 9482346,
     "sourceType": "datasetVersion"
    },
    {
     "datasetId": 5779445,
     "sourceId": 9497318,
     "sourceType": "datasetVersion"
    },
    {
     "datasetId": 5869059,
     "sourceId": 9616957,
     "sourceType": "datasetVersion"
    }
   ],
   "dockerImageVersionId": 30775,
   "isGpuEnabled": false,
   "isInternetEnabled": true,
   "language": "python",
   "sourceType": "notebook"
  },
  "kernelspec": {
   "display_name": "base",
   "language": "python",
   "name": "python3"
  },
  "language_info": {
   "codemirror_mode": {
    "name": "ipython",
    "version": 3
   },
   "file_extension": ".py",
   "mimetype": "text/x-python",
   "name": "python",
   "nbconvert_exporter": "python",
   "pygments_lexer": "ipython3",
   "version": "3.12.4"
  },
  "papermill": {
   "default_parameters": {},
   "duration": 7.262042,
   "end_time": "2024-10-13T19:05:52.028095",
   "environment_variables": {},
   "exception": null,
   "input_path": "__notebook__.ipynb",
   "output_path": "__notebook__.ipynb",
   "parameters": {},
   "start_time": "2024-10-13T19:05:44.766053",
   "version": "2.6.0"
  }
 },
 "nbformat": 4,
 "nbformat_minor": 5
}
