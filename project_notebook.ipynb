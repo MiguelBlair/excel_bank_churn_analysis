{
 "cells": [
  {
   "cell_type": "markdown",
   "id": "8806f51f",
   "metadata": {
    "papermill": {
     "duration": 0.008751,
     "end_time": "2024-10-13T19:05:47.588948",
     "exception": false,
     "start_time": "2024-10-13T19:05:47.580197",
     "status": "completed"
    },
    "tags": []
   },
   "source": [
    "# Excel customer churn analysis"
   ]
  },
  {
   "cell_type": "markdown",
   "id": "befd12df",
   "metadata": {
    "papermill": {
     "duration": 0.008255,
     "end_time": "2024-10-13T19:05:47.604952",
     "exception": false,
     "start_time": "2024-10-13T19:05:47.596697",
     "status": "completed"
    },
    "tags": []
   },
   "source": [
    "![Bank Insights (Excel) Analysis](https://www.universalcreativesolutions.com/Blog%20Images/Reducing%20Customer%20Churn%20Rate.webp)"
   ]
  },
  {
   "cell_type": "markdown",
   "id": "4eb32032",
   "metadata": {
    "papermill": {
     "duration": 0.007493,
     "end_time": "2024-10-13T19:05:47.620138",
     "exception": false,
     "start_time": "2024-10-13T19:05:47.612645",
     "status": "completed"
    },
    "tags": []
   },
   "source": [
    "# 1. Data collection-\n",
    "\n",
    "In this project, I chose to focus on customer churn in banks, a dynamic and expanding sector. By examining customer demographics and purchasing behaviors, I aim to gain valuable insights into how different customer groups influence retention and profitability. This analysis is crucial for refining marketing strategies and enhancing customer engagement, making it particularly useful for financial institutions looking to optimize their operations and reduce churn.\n",
    "\n",
    "The (CSV) dataset that I analyzed in this project comes from [Radheshyam Kollipara](https://www.kaggle.com/datasets/radheshyamkollipara/bank-customer-churn). This project is focused on excel so firstly I loaded the CSV into excel to preview the data and find out what would be the ideal key insights to extract, and identify the necessary data cleaning steps to ensure an effective analysis."
   ]
  },
  {
   "cell_type": "code",
   "execution_count": null,
   "id": "f686d8dc",
   "metadata": {},
   "outputs": [
    {
     "ename": "FileNotFoundError",
     "evalue": "[Errno 2] No such file or directory: 'Spreadsheets/bank_data.csv'",
     "output_type": "error",
     "traceback": [
      "\u001b[0;31m---------------------------------------------------------------------------\u001b[0m",
      "\u001b[0;31mFileNotFoundError\u001b[0m                         Traceback (most recent call last)",
      "Cell \u001b[0;32mIn[5], line 4\u001b[0m\n\u001b[1;32m      1\u001b[0m \u001b[38;5;66;03m# Imports pandas\u001b[39;00m\n\u001b[1;32m      2\u001b[0m \u001b[38;5;28;01mimport\u001b[39;00m \u001b[38;5;21;01mpandas\u001b[39;00m \u001b[38;5;28;01mas\u001b[39;00m \u001b[38;5;21;01mpd\u001b[39;00m\n\u001b[0;32m----> 4\u001b[0m df \u001b[38;5;241m=\u001b[39m pd\u001b[38;5;241m.\u001b[39mread_csv (\u001b[38;5;124m'\u001b[39m\u001b[38;5;124mSpreadsheets/bank_data.csv\u001b[39m\u001b[38;5;124m'\u001b[39m)\n\u001b[1;32m      6\u001b[0m df\n",
      "File \u001b[0;32m~/anaconda3/lib/python3.12/site-packages/pandas/io/parsers/readers.py:1026\u001b[0m, in \u001b[0;36mread_csv\u001b[0;34m(filepath_or_buffer, sep, delimiter, header, names, index_col, usecols, dtype, engine, converters, true_values, false_values, skipinitialspace, skiprows, skipfooter, nrows, na_values, keep_default_na, na_filter, verbose, skip_blank_lines, parse_dates, infer_datetime_format, keep_date_col, date_parser, date_format, dayfirst, cache_dates, iterator, chunksize, compression, thousands, decimal, lineterminator, quotechar, quoting, doublequote, escapechar, comment, encoding, encoding_errors, dialect, on_bad_lines, delim_whitespace, low_memory, memory_map, float_precision, storage_options, dtype_backend)\u001b[0m\n\u001b[1;32m   1013\u001b[0m kwds_defaults \u001b[38;5;241m=\u001b[39m _refine_defaults_read(\n\u001b[1;32m   1014\u001b[0m     dialect,\n\u001b[1;32m   1015\u001b[0m     delimiter,\n\u001b[0;32m   (...)\u001b[0m\n\u001b[1;32m   1022\u001b[0m     dtype_backend\u001b[38;5;241m=\u001b[39mdtype_backend,\n\u001b[1;32m   1023\u001b[0m )\n\u001b[1;32m   1024\u001b[0m kwds\u001b[38;5;241m.\u001b[39mupdate(kwds_defaults)\n\u001b[0;32m-> 1026\u001b[0m \u001b[38;5;28;01mreturn\u001b[39;00m _read(filepath_or_buffer, kwds)\n",
      "File \u001b[0;32m~/anaconda3/lib/python3.12/site-packages/pandas/io/parsers/readers.py:620\u001b[0m, in \u001b[0;36m_read\u001b[0;34m(filepath_or_buffer, kwds)\u001b[0m\n\u001b[1;32m    617\u001b[0m _validate_names(kwds\u001b[38;5;241m.\u001b[39mget(\u001b[38;5;124m\"\u001b[39m\u001b[38;5;124mnames\u001b[39m\u001b[38;5;124m\"\u001b[39m, \u001b[38;5;28;01mNone\u001b[39;00m))\n\u001b[1;32m    619\u001b[0m \u001b[38;5;66;03m# Create the parser.\u001b[39;00m\n\u001b[0;32m--> 620\u001b[0m parser \u001b[38;5;241m=\u001b[39m TextFileReader(filepath_or_buffer, \u001b[38;5;241m*\u001b[39m\u001b[38;5;241m*\u001b[39mkwds)\n\u001b[1;32m    622\u001b[0m \u001b[38;5;28;01mif\u001b[39;00m chunksize \u001b[38;5;129;01mor\u001b[39;00m iterator:\n\u001b[1;32m    623\u001b[0m     \u001b[38;5;28;01mreturn\u001b[39;00m parser\n",
      "File \u001b[0;32m~/anaconda3/lib/python3.12/site-packages/pandas/io/parsers/readers.py:1620\u001b[0m, in \u001b[0;36mTextFileReader.__init__\u001b[0;34m(self, f, engine, **kwds)\u001b[0m\n\u001b[1;32m   1617\u001b[0m     \u001b[38;5;28mself\u001b[39m\u001b[38;5;241m.\u001b[39moptions[\u001b[38;5;124m\"\u001b[39m\u001b[38;5;124mhas_index_names\u001b[39m\u001b[38;5;124m\"\u001b[39m] \u001b[38;5;241m=\u001b[39m kwds[\u001b[38;5;124m\"\u001b[39m\u001b[38;5;124mhas_index_names\u001b[39m\u001b[38;5;124m\"\u001b[39m]\n\u001b[1;32m   1619\u001b[0m \u001b[38;5;28mself\u001b[39m\u001b[38;5;241m.\u001b[39mhandles: IOHandles \u001b[38;5;241m|\u001b[39m \u001b[38;5;28;01mNone\u001b[39;00m \u001b[38;5;241m=\u001b[39m \u001b[38;5;28;01mNone\u001b[39;00m\n\u001b[0;32m-> 1620\u001b[0m \u001b[38;5;28mself\u001b[39m\u001b[38;5;241m.\u001b[39m_engine \u001b[38;5;241m=\u001b[39m \u001b[38;5;28mself\u001b[39m\u001b[38;5;241m.\u001b[39m_make_engine(f, \u001b[38;5;28mself\u001b[39m\u001b[38;5;241m.\u001b[39mengine)\n",
      "File \u001b[0;32m~/anaconda3/lib/python3.12/site-packages/pandas/io/parsers/readers.py:1880\u001b[0m, in \u001b[0;36mTextFileReader._make_engine\u001b[0;34m(self, f, engine)\u001b[0m\n\u001b[1;32m   1878\u001b[0m     \u001b[38;5;28;01mif\u001b[39;00m \u001b[38;5;124m\"\u001b[39m\u001b[38;5;124mb\u001b[39m\u001b[38;5;124m\"\u001b[39m \u001b[38;5;129;01mnot\u001b[39;00m \u001b[38;5;129;01min\u001b[39;00m mode:\n\u001b[1;32m   1879\u001b[0m         mode \u001b[38;5;241m+\u001b[39m\u001b[38;5;241m=\u001b[39m \u001b[38;5;124m\"\u001b[39m\u001b[38;5;124mb\u001b[39m\u001b[38;5;124m\"\u001b[39m\n\u001b[0;32m-> 1880\u001b[0m \u001b[38;5;28mself\u001b[39m\u001b[38;5;241m.\u001b[39mhandles \u001b[38;5;241m=\u001b[39m get_handle(\n\u001b[1;32m   1881\u001b[0m     f,\n\u001b[1;32m   1882\u001b[0m     mode,\n\u001b[1;32m   1883\u001b[0m     encoding\u001b[38;5;241m=\u001b[39m\u001b[38;5;28mself\u001b[39m\u001b[38;5;241m.\u001b[39moptions\u001b[38;5;241m.\u001b[39mget(\u001b[38;5;124m\"\u001b[39m\u001b[38;5;124mencoding\u001b[39m\u001b[38;5;124m\"\u001b[39m, \u001b[38;5;28;01mNone\u001b[39;00m),\n\u001b[1;32m   1884\u001b[0m     compression\u001b[38;5;241m=\u001b[39m\u001b[38;5;28mself\u001b[39m\u001b[38;5;241m.\u001b[39moptions\u001b[38;5;241m.\u001b[39mget(\u001b[38;5;124m\"\u001b[39m\u001b[38;5;124mcompression\u001b[39m\u001b[38;5;124m\"\u001b[39m, \u001b[38;5;28;01mNone\u001b[39;00m),\n\u001b[1;32m   1885\u001b[0m     memory_map\u001b[38;5;241m=\u001b[39m\u001b[38;5;28mself\u001b[39m\u001b[38;5;241m.\u001b[39moptions\u001b[38;5;241m.\u001b[39mget(\u001b[38;5;124m\"\u001b[39m\u001b[38;5;124mmemory_map\u001b[39m\u001b[38;5;124m\"\u001b[39m, \u001b[38;5;28;01mFalse\u001b[39;00m),\n\u001b[1;32m   1886\u001b[0m     is_text\u001b[38;5;241m=\u001b[39mis_text,\n\u001b[1;32m   1887\u001b[0m     errors\u001b[38;5;241m=\u001b[39m\u001b[38;5;28mself\u001b[39m\u001b[38;5;241m.\u001b[39moptions\u001b[38;5;241m.\u001b[39mget(\u001b[38;5;124m\"\u001b[39m\u001b[38;5;124mencoding_errors\u001b[39m\u001b[38;5;124m\"\u001b[39m, \u001b[38;5;124m\"\u001b[39m\u001b[38;5;124mstrict\u001b[39m\u001b[38;5;124m\"\u001b[39m),\n\u001b[1;32m   1888\u001b[0m     storage_options\u001b[38;5;241m=\u001b[39m\u001b[38;5;28mself\u001b[39m\u001b[38;5;241m.\u001b[39moptions\u001b[38;5;241m.\u001b[39mget(\u001b[38;5;124m\"\u001b[39m\u001b[38;5;124mstorage_options\u001b[39m\u001b[38;5;124m\"\u001b[39m, \u001b[38;5;28;01mNone\u001b[39;00m),\n\u001b[1;32m   1889\u001b[0m )\n\u001b[1;32m   1890\u001b[0m \u001b[38;5;28;01massert\u001b[39;00m \u001b[38;5;28mself\u001b[39m\u001b[38;5;241m.\u001b[39mhandles \u001b[38;5;129;01mis\u001b[39;00m \u001b[38;5;129;01mnot\u001b[39;00m \u001b[38;5;28;01mNone\u001b[39;00m\n\u001b[1;32m   1891\u001b[0m f \u001b[38;5;241m=\u001b[39m \u001b[38;5;28mself\u001b[39m\u001b[38;5;241m.\u001b[39mhandles\u001b[38;5;241m.\u001b[39mhandle\n",
      "File \u001b[0;32m~/anaconda3/lib/python3.12/site-packages/pandas/io/common.py:873\u001b[0m, in \u001b[0;36mget_handle\u001b[0;34m(path_or_buf, mode, encoding, compression, memory_map, is_text, errors, storage_options)\u001b[0m\n\u001b[1;32m    868\u001b[0m \u001b[38;5;28;01melif\u001b[39;00m \u001b[38;5;28misinstance\u001b[39m(handle, \u001b[38;5;28mstr\u001b[39m):\n\u001b[1;32m    869\u001b[0m     \u001b[38;5;66;03m# Check whether the filename is to be opened in binary mode.\u001b[39;00m\n\u001b[1;32m    870\u001b[0m     \u001b[38;5;66;03m# Binary mode does not support 'encoding' and 'newline'.\u001b[39;00m\n\u001b[1;32m    871\u001b[0m     \u001b[38;5;28;01mif\u001b[39;00m ioargs\u001b[38;5;241m.\u001b[39mencoding \u001b[38;5;129;01mand\u001b[39;00m \u001b[38;5;124m\"\u001b[39m\u001b[38;5;124mb\u001b[39m\u001b[38;5;124m\"\u001b[39m \u001b[38;5;129;01mnot\u001b[39;00m \u001b[38;5;129;01min\u001b[39;00m ioargs\u001b[38;5;241m.\u001b[39mmode:\n\u001b[1;32m    872\u001b[0m         \u001b[38;5;66;03m# Encoding\u001b[39;00m\n\u001b[0;32m--> 873\u001b[0m         handle \u001b[38;5;241m=\u001b[39m \u001b[38;5;28mopen\u001b[39m(\n\u001b[1;32m    874\u001b[0m             handle,\n\u001b[1;32m    875\u001b[0m             ioargs\u001b[38;5;241m.\u001b[39mmode,\n\u001b[1;32m    876\u001b[0m             encoding\u001b[38;5;241m=\u001b[39mioargs\u001b[38;5;241m.\u001b[39mencoding,\n\u001b[1;32m    877\u001b[0m             errors\u001b[38;5;241m=\u001b[39merrors,\n\u001b[1;32m    878\u001b[0m             newline\u001b[38;5;241m=\u001b[39m\u001b[38;5;124m\"\u001b[39m\u001b[38;5;124m\"\u001b[39m,\n\u001b[1;32m    879\u001b[0m         )\n\u001b[1;32m    880\u001b[0m     \u001b[38;5;28;01melse\u001b[39;00m:\n\u001b[1;32m    881\u001b[0m         \u001b[38;5;66;03m# Binary mode\u001b[39;00m\n\u001b[1;32m    882\u001b[0m         handle \u001b[38;5;241m=\u001b[39m \u001b[38;5;28mopen\u001b[39m(handle, ioargs\u001b[38;5;241m.\u001b[39mmode)\n",
      "\u001b[0;31mFileNotFoundError\u001b[0m: [Errno 2] No such file or directory: 'Spreadsheets/bank_data.csv'"
     ]
    }
   ],
   "source": [
    "# Imports pandas\n",
    "import pandas as pd\n",
    "\n",
    "df = pd.read_csv ('Data_sets/bank_data.csv')\n",
    "\n",
    "df"
   ]
  },
  {
   "cell_type": "markdown",
   "id": "a21864fb",
   "metadata": {
    "papermill": {
     "duration": 0.00918,
     "end_time": "2024-10-13T19:05:48.623943",
     "exception": false,
     "start_time": "2024-10-13T19:05:48.614763",
     "status": "completed"
    },
    "tags": []
   },
   "source": [
    "How I would check the number of columns in excel is to select a row number and view the count below"
   ]
  },
  {
   "cell_type": "markdown",
   "id": "62b1f14b",
   "metadata": {},
   "source": [
    "![img](Images/column_count.png)"
   ]
  },
  {
   "cell_type": "markdown",
   "id": "a9c5a20e",
   "metadata": {
    "papermill": {
     "duration": 0.012704,
     "end_time": "2024-10-13T19:05:48.701162",
     "exception": false,
     "start_time": "2024-10-13T19:05:48.688458",
     "status": "completed"
    },
    "tags": []
   },
   "source": [
    "For the rows, I would select a column letter"
   ]
  },
  {
   "cell_type": "markdown",
   "id": "ea2e0bce",
   "metadata": {},
   "source": [
    "![img](Images/row_count.png)"
   ]
  },
  {
   "cell_type": "markdown",
   "id": "52bd98f1",
   "metadata": {
    "papermill": {
     "duration": 0.018767,
     "end_time": "2024-10-13T19:05:48.798744",
     "exception": false,
     "start_time": "2024-10-13T19:05:48.779977",
     "status": "completed"
    },
    "tags": []
   },
   "source": [
    ">What this preview tells us about this data frame-\n",
    "\n",
    "1. There are 10, 000 rows and 18 columns.\n",
    "\n",
    "2. The columns in the datasets are: RowNumber, CustomerId, Surname, CreditScore, Geography, Gender, Age, Tenure, Balance, NumOfProducts, HasCrCard, IsActiveMember, EstimatedSalary, Exited, Complain, Satisfaction Score, Card Type, Point Earned"
   ]
  },
  {
   "cell_type": "markdown",
   "id": "3021ee93",
   "metadata": {
    "papermill": {
     "duration": 0.017775,
     "end_time": "2024-10-13T19:05:48.835238",
     "exception": false,
     "start_time": "2024-10-13T19:05:48.817463",
     "status": "completed"
    },
    "tags": []
   },
   "source": [
    "# 2. Defining the problems/ goals-\n",
    "\n",
    "  Looking at this data (primarily the columns), the ideal key insights to extract would be-\n",
    "\n",
    "1. **What is the distribution of credit scores across different regions (Geography)?**  \n",
    "   Calculate the average credit score for each region to identify regional trends.\n",
    "\n",
    "2. **How do age and tenure impact the number of products customers use?**  \n",
    "   Analyze the average number of products based on age and tenure to identify usage patterns.\n",
    "\n",
    "3. **Is there a correlation between customer balance and factors like credit score, geography, or tenure?**  \n",
    "   Examine correlations between customer balance and credit score, geography, or tenure to detect trends.\n",
    "\n",
    "4. **What are the key differences between male and female customers in terms of credit score, balance, and product usage?**  \n",
    "   Compare average credit scores, balances, and product usage between genders to identify significant differences."
   ]
  },
  {
   "cell_type": "markdown",
   "id": "fd2fe4e0",
   "metadata": {
    "papermill": {
     "duration": 0.018053,
     "end_time": "2024-10-13T19:05:48.871572",
     "exception": false,
     "start_time": "2024-10-13T19:05:48.853519",
     "status": "completed"
    },
    "tags": []
   },
   "source": [
    "# 3. Data cleaning-\n",
    "\n",
    "This data is fairly clean, it just needs better formatting, and a \"staging\" copy of the original sheet for data integrity and to prevent data loss. So without wasting any time at all, I went straight through this data analysis process."
   ]
  },
  {
   "cell_type": "markdown",
   "id": "59d4c588",
   "metadata": {
    "papermill": {
     "duration": 0.017854,
     "end_time": "2024-10-13T19:05:48.907660",
     "exception": false,
     "start_time": "2024-10-13T19:05:48.889806",
     "status": "completed"
    },
    "tags": []
   },
   "source": [
    "Firstly, I created a duplicate of the original table to work on only the columns i need, which is displayed below"
   ]
  },
  {
   "cell_type": "markdown",
   "id": "f852e1b7",
   "metadata": {},
   "source": [
    "![img](Images/staging_copy.png)"
   ]
  },
  {
   "cell_type": "markdown",
   "id": "7cb8a616",
   "metadata": {
    "papermill": {
     "duration": 0.022757,
     "end_time": "2024-10-13T19:05:49.019437",
     "exception": false,
     "start_time": "2024-10-13T19:05:48.996680",
     "status": "completed"
    },
    "tags": []
   },
   "source": [
    ">Duplicates-\n",
    "\n",
    "To remove duplicates I used ctrl+A to select the whole table then went to the data tab in the above ribbon, selected data tools, and finally remove duplicates and ok.\n",
    "\n",
    "Which there were no duplicate values found"
   ]
  },
  {
   "cell_type": "markdown",
   "id": "e10df631",
   "metadata": {},
   "source": [
    "![img](Images/dup.png)"
   ]
  },
  {
   "cell_type": "markdown",
   "id": "43c2a234",
   "metadata": {
    "papermill": {
     "duration": 0.028016,
     "end_time": "2024-10-13T19:05:49.155777",
     "exception": false,
     "start_time": "2024-10-13T19:05:49.127761",
     "status": "completed"
    },
    "tags": []
   },
   "source": [
    ">Null values-\n",
    "\n",
    "With the entire sheet selected still, I went to the insert tab and selected table so I can filter the columns by \"blank\" cells.\n",
    "\n",
    "Which none were found."
   ]
  },
  {
   "cell_type": "markdown",
   "id": "9d96fae6",
   "metadata": {},
   "source": [
    "![img](Images/null.png)"
   ]
  },
  {
   "cell_type": "markdown",
   "id": "8f7399d3",
   "metadata": {
    "papermill": {
     "duration": 0.033115,
     "end_time": "2024-10-13T19:05:49.309240",
     "exception": false,
     "start_time": "2024-10-13T19:05:49.276125",
     "status": "completed"
    },
    "tags": []
   },
   "source": [
    ">The data is now clean\n",
    "\n",
    "I checked for duplicate entries, checked for null values, and filtered out only the relevant columns into a copy table, Now I started extracting insights and visualize them."
   ]
  },
  {
   "cell_type": "markdown",
   "id": "009f4e28",
   "metadata": {
    "papermill": {
     "duration": 0.032618,
     "end_time": "2024-10-13T19:05:49.374249",
     "exception": false,
     "start_time": "2024-10-13T19:05:49.341631",
     "status": "completed"
    },
    "tags": []
   },
   "source": [
    "# 4. Data analysis\n",
    "\n",
    "# First question-\n",
    "\n",
    "1. **What is the distribution of credit scores across different regions (Geography)?**  \n",
    "   Calculate the average credit score for each region to identify regional trends.\n",
    "   \n",
    "For all my insigths below, I utilized pivot tables under the insert tab, and visualized them with a bar chart.\n",
    "\n",
    "This result pivot table is-"
   ]
  },
  {
   "cell_type": "markdown",
   "id": "affd0574",
   "metadata": {},
   "source": [
    "![img](Images/q1.png)"
   ]
  },
  {
   "cell_type": "markdown",
   "id": "1e7870d2",
   "metadata": {
    "papermill": {
     "duration": 0.035436,
     "end_time": "2024-10-13T19:05:49.535490",
     "exception": false,
     "start_time": "2024-10-13T19:05:49.500054",
     "status": "completed"
    },
    "tags": []
   },
   "source": [
    "### Conclusion\n",
    "\n",
    "From the pivot table, we can observe that the average credit scores across the three regions—France, Spain, and Germany—are fairly similar, with Germany having the highest average at **651.45**, followed closely by Spain at **651.33**, and France at **649.67**. Although the differences in credit scores are small, Germany and Spain show slightly higher creditworthiness compared to France. This insight can be useful for tailoring financial services or marketing strategies based on regional credit score trends."
   ]
  },
  {
   "cell_type": "markdown",
   "id": "4dcf1836",
   "metadata": {
    "papermill": {
     "duration": 0.034911,
     "end_time": "2024-10-13T19:05:49.607538",
     "exception": false,
     "start_time": "2024-10-13T19:05:49.572627",
     "status": "completed"
    },
    "tags": []
   },
   "source": [
    "# Second question-\n",
    "\n",
    "2. **How do age and tenure impact the number of products customers use?**  \n",
    "   Analyze the average number of products based on age and tenure to identify usage patterns.\n",
    "   \n",
    "To make the pivot table more readable, with IF functions I added new columns, Age range, and ,tenure range"
   ]
  },
  {
   "cell_type": "markdown",
   "id": "b93ba135",
   "metadata": {},
   "source": [
    "![img](Images/age_range.png)"
   ]
  },
  {
   "cell_type": "markdown",
   "id": "4184d96f",
   "metadata": {},
   "source": [
    "![img](Images/tenure_range.png)"
   ]
  },
  {
   "cell_type": "markdown",
   "id": "e6f3a2d1",
   "metadata": {
    "papermill": {
     "duration": 0.045457,
     "end_time": "2024-10-13T19:05:49.931276",
     "exception": false,
     "start_time": "2024-10-13T19:05:49.885819",
     "status": "completed"
    },
    "tags": []
   },
   "source": [
    "And then the analysis done below"
   ]
  },
  {
   "cell_type": "markdown",
   "id": "b1108432",
   "metadata": {},
   "source": [
    "![img](Images/q2.png)"
   ]
  },
  {
   "cell_type": "markdown",
   "id": "ee57dadf",
   "metadata": {
    "papermill": {
     "duration": 0.04862,
     "end_time": "2024-10-13T19:05:50.149932",
     "exception": false,
     "start_time": "2024-10-13T19:05:50.101312",
     "status": "completed"
    },
    "tags": []
   },
   "source": [
    "### Conclusion-\n",
    "\n",
    "The analysis of average product usage reveals interesting patterns based on customer age and tenure. Across all age ranges, the average number of products used is relatively consistent, with younger age groups (20-29) showing slightly higher usage (approximately **1.56 products**) compared to older age groups (50-59) which have lower usage (approximately **1.48 products**). \n",
    "\n",
    "In terms of tenure, customers with **1-2 years** of tenure have the highest average product usage across all age ranges, while those with **less than 1 year** of tenure exhibit the lowest usage (approximately **1.44 products** overall). \n",
    "\n",
    "Overall, while age appears to have a minimal impact on the average number of products used, tenure seems to play a more significant role, with longer tenure associated with increased product usage. These insights can help tailor marketing strategies to enhance customer engagement, particularly for newer customers."
   ]
  },
  {
   "cell_type": "markdown",
   "id": "3ef33625",
   "metadata": {
    "papermill": {
     "duration": 0.04819,
     "end_time": "2024-10-13T19:05:50.246721",
     "exception": false,
     "start_time": "2024-10-13T19:05:50.198531",
     "status": "completed"
    },
    "tags": []
   },
   "source": [
    "# Third question\n",
    "\n",
    "3. **Is there a correlation between customer balance and factors like credit score, geography, or tenure?**  \n",
    "   Examine correlations between customer balance and credit score, geography, or tenure to detect trends."
   ]
  },
  {
   "cell_type": "markdown",
   "id": "7619095f",
   "metadata": {
    "papermill": {
     "duration": 0.049064,
     "end_time": "2024-10-13T19:05:50.344459",
     "exception": false,
     "start_time": "2024-10-13T19:05:50.295395",
     "status": "completed"
    },
    "tags": []
   },
   "source": [
    "Average credit score by tenure and geography:"
   ]
  },
  {
   "cell_type": "markdown",
   "id": "0d926a2b",
   "metadata": {},
   "source": [
    "![img](Images/q3_1st.png)"
   ]
  },
  {
   "cell_type": "markdown",
   "id": "68fcff12",
   "metadata": {
    "papermill": {
     "duration": 0.055787,
     "end_time": "2024-10-13T19:05:50.582790",
     "exception": false,
     "start_time": "2024-10-13T19:05:50.527003",
     "status": "completed"
    },
    "tags": []
   },
   "source": [
    "Average balance by tenure and geography:"
   ]
  },
  {
   "cell_type": "markdown",
   "id": "850c506d",
   "metadata": {},
   "source": [
    "![img](Images/q3_2nd.png)"
   ]
  },
  {
   "cell_type": "markdown",
   "id": "6abc1d65",
   "metadata": {
    "papermill": {
     "duration": 0.056908,
     "end_time": "2024-10-13T19:05:50.834625",
     "exception": false,
     "start_time": "2024-10-13T19:05:50.777717",
     "status": "completed"
    },
    "tags": []
   },
   "source": [
    "**Conclusion**:\n",
    "\n",
    "The analysis of credit scores and balances across different geographies and tenure ranges reveals some interesting insights. Overall, the average credit score is highest in Germany (**651.45**), followed closely by Spain (**651.33**) and France (**649.67**). Notably, customers with a tenure of **1-2 years** generally have the highest average credit scores, indicating that newer customers tend to have stronger creditworthiness.\n",
    "\n",
    "When examining average balances, Germany also stands out with the highest figures across all tenure ranges, particularly for customers with **1-2 years** of tenure, averaging **119,095.92**. In contrast, Spain exhibits lower average balances, particularly among customers with **3-4 years** of tenure, averaging **59,710.61**.\n",
    "\n",
    "The overall trend suggests that longer tenure correlates with higher balances and stable credit scores, especially in Germany. This indicates that customers tend to build stronger financial profiles over time, reinforcing the importance of customer retention strategies for enhancing overall financial health. Understanding these dynamics can assist financial institutions in tailoring their offerings to meet the needs of different customer segments effectively."
   ]
  },
  {
   "cell_type": "markdown",
   "id": "aa8c0523",
   "metadata": {
    "papermill": {
     "duration": 0.055978,
     "end_time": "2024-10-13T19:05:50.947322",
     "exception": false,
     "start_time": "2024-10-13T19:05:50.891344",
     "status": "completed"
    },
    "tags": []
   },
   "source": [
    "# Fourth question-\n",
    "\n",
    "4. **What are the key differences between male and female customers in terms of credit score, balance, and product usage?**  \n",
    "   With a pivot table, I compared average credit scores, balances, and product usage between genders to identify significant differences."
   ]
  },
  {
   "cell_type": "markdown",
   "id": "b2b97285",
   "metadata": {},
   "source": [
    "![img](Images/q4.png)"
   ]
  },
  {
   "cell_type": "markdown",
   "id": "954b764c",
   "metadata": {
    "papermill": {
     "duration": 0.059502,
     "end_time": "2024-10-13T19:05:51.212457",
     "exception": false,
     "start_time": "2024-10-13T19:05:51.152955",
     "status": "completed"
    },
    "tags": []
   },
   "source": [
    "### Conclusion:\n",
    "\n",
    "The analysis shows that female customers have a slightly higher average balance (**₹75,659.37**) compared to male customers (**₹77,173.97**). In terms of credit score, females have a marginally higher average score (**650.83**) compared to males (**650.28**). Additionally, females use more products on average (**1.54 products**) than males (**1.52 products**). These findings suggest that while the differences between genders are subtle, female customers may have slightly higher financial engagement, potentially indicating more involvement in the bank’s offerings. This insight can be valuable for developing gender-specific marketing strategies and service enhancements."
   ]
  },
  {
   "cell_type": "markdown",
   "id": "9999fb16",
   "metadata": {
    "papermill": {
     "duration": 0.059211,
     "end_time": "2024-10-13T19:05:51.330788",
     "exception": false,
     "start_time": "2024-10-13T19:05:51.271577",
     "status": "completed"
    },
    "tags": []
   },
   "source": [
    "# Summary:\n",
    "\n",
    "This project examines customer data to identify key trends in credit scores, product usage, customer balances, and demographic factors such as gender and geography. The analysis provides valuable insights for optimizing marketing strategies and customer engagement efforts.\n",
    "\n",
    "1. **Credit Score Distribution by Geography**  \n",
    "   The average credit scores across France, Spain, and Germany are similar, with Germany showing the highest average at **651.45**, followed by Spain (**651.33**) and France (**649.67**). Though differences are small, this insight can be leveraged to tailor region-specific financial services, especially in regions with higher creditworthiness.\n",
    "\n",
    "2. **Impact of Age and Tenure on Product Usage**  \n",
    "   Customers with **1-2 years** of tenure consistently have higher product usage across all age groups, with younger customers (20-29) using slightly more products (**1.56 products**) than older customers (50-59). Tenure has a more pronounced effect on product usage, with shorter-tenured customers using fewer products. This suggests that banks could focus on engaging new customers to increase product adoption early in their relationship.\n",
    "\n",
    "3. **Correlation Between Balance and Factors like Credit Score, Geography, and Tenure**  \n",
    "   Longer tenure is associated with higher balances, particularly in Germany, where customers with **1-2 years** of tenure hold the highest average balance (**₹119,095.92**). The correlation between geography and balance suggests that German customers are likely to hold more wealth over time. Understanding these patterns helps financial institutions focus retention strategies on high-value customers.\n",
    "\n",
    "4. **Key Differences Between Male and Female Customers**  \n",
    "   Female customers have a slightly higher average balance (**₹75,659.37**) compared to male customers (**₹77,173.97**). Females also have a slightly higher average credit score (**650.83**) and product usage (**1.54 products**) than males. These differences, though subtle, suggest that female customers may be more engaged with banking products, presenting opportunities for gender-targeted marketing campaigns.  \n",
    "\n",
    "These findings highlight the importance of customer demographics, tenure, and geography in shaping customer behaviors and provide actionable insights for improving customer segmentation, engagement, and profitability in the banking sector."
   ]
  },
  {
   "cell_type": "markdown",
   "id": "aa37d0df",
   "metadata": {
    "papermill": {
     "duration": 0.058757,
     "end_time": "2024-10-13T19:05:51.448767",
     "exception": false,
     "start_time": "2024-10-13T19:05:51.390010",
     "status": "completed"
    },
    "tags": []
   },
   "source": [
    "# Thank you for your time\n",
    "\n",
    "If you have any suggestions to what I should add or edit to this project feel free to comment on it, I will accredit any suggestions if so desired.  Any input is appreciated."
   ]
  }
 ],
 "metadata": {
  "kaggle": {
   "accelerator": "none",
   "dataSources": [
    {
     "datasetId": 5767938,
     "sourceId": 9482346,
     "sourceType": "datasetVersion"
    },
    {
     "datasetId": 5779445,
     "sourceId": 9497318,
     "sourceType": "datasetVersion"
    },
    {
     "datasetId": 5869059,
     "sourceId": 9616957,
     "sourceType": "datasetVersion"
    }
   ],
   "dockerImageVersionId": 30775,
   "isGpuEnabled": false,
   "isInternetEnabled": true,
   "language": "python",
   "sourceType": "notebook"
  },
  "kernelspec": {
   "display_name": "base",
   "language": "python",
   "name": "python3"
  },
  "language_info": {
   "codemirror_mode": {
    "name": "ipython",
    "version": 3
   },
   "file_extension": ".py",
   "mimetype": "text/x-python",
   "name": "python",
   "nbconvert_exporter": "python",
   "pygments_lexer": "ipython3",
   "version": "3.12.7"
  },
  "papermill": {
   "default_parameters": {},
   "duration": 7.262042,
   "end_time": "2024-10-13T19:05:52.028095",
   "environment_variables": {},
   "exception": null,
   "input_path": "__notebook__.ipynb",
   "output_path": "__notebook__.ipynb",
   "parameters": {},
   "start_time": "2024-10-13T19:05:44.766053",
   "version": "2.6.0"
  }
 },
 "nbformat": 4,
 "nbformat_minor": 5
}
